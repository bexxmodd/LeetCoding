{
 "cells": [
  {
   "cell_type": "markdown",
   "metadata": {},
   "source": [
    "# Linked List Part 2\n",
    "\n",
    "## Set 1 | Counting Number of Nodes\n",
    "\n",
    "To find the length of a Linked List we need to count the number of nodes\n",
    "![image](Linkedlist_find_length.png)\n",
    "\n",
    "### Iterative Solution:\n",
    "\n",
    "1. Initialize count as 0 \n",
    "2. Initialize a node pointer, current = head.\n",
    "3. Do following while current is not NULL\n",
    "     1. current = current -> next\n",
    "     2. count++;\n",
    "4. Return count "
   ]
  },
  {
   "cell_type": "code",
   "execution_count": 1,
   "metadata": {},
   "outputs": [],
   "source": [
    "class Node:\n",
    "    \n",
    "    def __init__(self, data):\n",
    "        self.data = data\n",
    "        self.next = None"
   ]
  },
  {
   "cell_type": "code",
   "execution_count": 2,
   "metadata": {},
   "outputs": [],
   "source": [
    "class LinkedList:\n",
    "    \n",
    "    def __init__(self):\n",
    "        self.head = None\n",
    "        \n",
    "    def push(self, new_data):\n",
    "        new_node = Node(new_data)\n",
    "        new_node.next = self.head\n",
    "        self.head = new_node\n",
    "        \n",
    "    def length(self):\n",
    "        \"\"\"Counts the number of nodes\"\"\"\n",
    "        tmp = self.head\n",
    "        count = 0\n",
    "        \n",
    "        # Loop until the next is None (the end is reached)\n",
    "        while tmp:\n",
    "            count += 1\n",
    "            tmp = tmp.next\n",
    "        return count"
   ]
  },
  {
   "cell_type": "code",
   "execution_count": 3,
   "metadata": {},
   "outputs": [
    {
     "name": "stdout",
     "output_type": "stream",
     "text": [
      "Count of nodes is : 5\n"
     ]
    }
   ],
   "source": [
    "llist = LinkedList() \n",
    "llist.push(1) \n",
    "llist.push(3) \n",
    "llist.push(1) \n",
    "llist.push(2)\n",
    "llist.push(1) \n",
    "print(\"Count of nodes is :\",llist.length())"
   ]
  },
  {
   "cell_type": "markdown",
   "metadata": {},
   "source": [
    "------\n",
    "## Set 2 | Search an Element\n",
    "This function will search s given key in a given linked list and return true if found, false otherwise.\n",
    "\n",
    "### Recursive Solution\n",
    "1. If head is NULL, return false.\n",
    "2. If head's key is same as x, return true;\n",
    "3. Else return search(head->next, x) "
   ]
  },
  {
   "cell_type": "code",
   "execution_count": 4,
   "metadata": {},
   "outputs": [],
   "source": [
    "class LinkedList:\n",
    "    \n",
    "    def __init__(self):\n",
    "        self.head = None\n",
    "        \n",
    "    def print_llist(self):\n",
    "        \"\"\"Prints the data from the linked list\"\"\"\n",
    "        tmp = self.head\n",
    "        while (tmp):\n",
    "            print(tmp.data, end=' -> ')\n",
    "            tmp = tmp.next\n",
    "        print('None')\n",
    "        \n",
    "    def push(self, new_data):\n",
    "        \"\"\"Add node to the linked list\"\"\"\n",
    "        new_node = Node(new_data)\n",
    "        new_node.next = self.head\n",
    "        self.head = new_node\n",
    "        \n",
    "    def search(self, key):\n",
    "        \"\"\"Searches if the given node is present\"\"\"\n",
    "        current = self.head\n",
    "        \n",
    "        while current is not None:\n",
    "            if current.data == key:\n",
    "                return True\n",
    "            current = current.next\n",
    "            \n",
    "        return False"
   ]
  },
  {
   "cell_type": "code",
   "execution_count": 5,
   "metadata": {},
   "outputs": [
    {
     "name": "stdout",
     "output_type": "stream",
     "text": [
      "Found!\n"
     ]
    }
   ],
   "source": [
    "llist1 = LinkedList() \n",
    "  \n",
    "llist1.push(10) \n",
    "llist1.push(30) \n",
    "llist1.push(11) \n",
    "llist1.push(21) \n",
    "llist1.push(14)\n",
    "  \n",
    "if llist1.search(11): \n",
    "    print(\"Found!\") \n",
    "else: \n",
    "    print(\"Not found!\")"
   ]
  },
  {
   "cell_type": "markdown",
   "metadata": {},
   "source": [
    "## Set 3 | Get Nth node\n",
    "\n",
    "### Algorithm: \n",
    "\n",
    "1. Initialize count = 0\n",
    "2. Loop through the link list\n",
    "     1. if count is equal to the passed index then return current\n",
    "         node\n",
    "     2. Increment count\n",
    "     3. change current to point to next of the current"
   ]
  },
  {
   "cell_type": "code",
   "execution_count": 9,
   "metadata": {},
   "outputs": [],
   "source": [
    "class LinkedList:\n",
    "    \n",
    "    def __init__(self):\n",
    "        self.head = None\n",
    "        \n",
    "    def print_llist(self):\n",
    "        \"\"\"Prints the data from the linked list\"\"\"\n",
    "        tmp = self.head\n",
    "        while (tmp):\n",
    "            print(tmp.data, end=' -> ')\n",
    "            tmp = tmp.next\n",
    "        print('None')\n",
    "        \n",
    "    def push(self, new_data):\n",
    "        \"\"\"Add node to the linked list\"\"\"\n",
    "        new_node = Node(new_data)\n",
    "        new_node.next = self.head\n",
    "        self.head = new_node\n",
    "        \n",
    "    def get_nth(self, index):\n",
    "        \"\"\"Searches and retrieves node on the given index\"\"\"\n",
    "        tmp = self.head\n",
    "        count = 0\n",
    "        \n",
    "        while tmp:\n",
    "            if count == index:\n",
    "                return tmp.data\n",
    "            count += 1\n",
    "            tmp = tmp.next\n",
    "        \n",
    "        # If the index is in this linked list\n",
    "        assert False\n",
    "        return -1"
   ]
  },
  {
   "cell_type": "code",
   "execution_count": 10,
   "metadata": {},
   "outputs": [
    {
     "name": "stdout",
     "output_type": "stream",
     "text": [
      "Element at index 3 is : 4\n"
     ]
    }
   ],
   "source": [
    "llist3 = LinkedList() \n",
    "llist3.push(1) \n",
    "llist3.push(4) \n",
    "llist3.push(1) \n",
    "llist3.push(12) \n",
    "llist3.push(1) \n",
    "  \n",
    "n = 3\n",
    "print(\"Element at index 3 is :\", llist3.get_nth(n))"
   ]
  },
  {
   "cell_type": "code",
   "execution_count": null,
   "metadata": {},
   "outputs": [],
   "source": []
  }
 ],
 "metadata": {
  "kernelspec": {
   "display_name": "Python 3.8.2 64-bit",
   "language": "python",
   "name": "python38264bitc1c0e47f0bef41228abb9a7d720d2718"
  },
  "language_info": {
   "codemirror_mode": {
    "name": "ipython",
    "version": 3
   },
   "file_extension": ".py",
   "mimetype": "text/x-python",
   "name": "python",
   "nbconvert_exporter": "python",
   "pygments_lexer": "ipython3",
   "version": "3.8.5"
  }
 },
 "nbformat": 4,
 "nbformat_minor": 4
}
