{
 "cells": [
  {
   "cell_type": "markdown",
   "metadata": {},
   "source": [
    "# Linked List Part 2\n",
    "\n",
    "## Set 1 | Counting Number of Nodes\n",
    "\n",
    "To find the length of a Linked List we need to count the number of nodes\n",
    "![image](Linkedlist_find_length.png)\n",
    "\n",
    "### Iterative Solution:\n",
    "\n",
    "1. Initialize count as 0 \n",
    "2. Initialize a node pointer, current = head.\n",
    "3. Do following while current is not NULL\n",
    "     1. current = current -> next\n",
    "     2. count++;\n",
    "4. Return count "
   ]
  },
  {
   "cell_type": "code",
   "execution_count": 1,
   "metadata": {},
   "outputs": [],
   "source": [
    "class Node:\n",
    "    \n",
    "    def __init__(self, data):\n",
    "        self.data = data\n",
    "        self.next = None"
   ]
  },
  {
   "cell_type": "code",
   "execution_count": 2,
   "metadata": {},
   "outputs": [],
   "source": [
    "class LinkedList:\n",
    "    \n",
    "    def __init__(self):\n",
    "        self.head = None\n",
    "        \n",
    "    def push(self, new_data):\n",
    "        new_node = Node(new_data)\n",
    "        new_node.next = self.head\n",
    "        self.head = new_node\n",
    "        \n",
    "    def length(self):\n",
    "        \"\"\"Counts the number of nodes\"\"\"\n",
    "        tmp = self.head\n",
    "        count = 0\n",
    "        \n",
    "        # Loop until the next is None (the end is reached)\n",
    "        while tmp:\n",
    "            count += 1\n",
    "            tmp = tmp.next\n",
    "        return count"
   ]
  },
  {
   "cell_type": "code",
   "execution_count": 3,
   "metadata": {},
   "outputs": [
    {
     "name": "stdout",
     "output_type": "stream",
     "text": [
      "Count of nodes is : 5\n"
     ]
    }
   ],
   "source": [
    "llist = LinkedList() \n",
    "llist.push(1) \n",
    "llist.push(3) \n",
    "llist.push(1) \n",
    "llist.push(2)\n",
    "llist.push(1) \n",
    "print(\"Count of nodes is :\",llist.length())"
   ]
  },
  {
   "cell_type": "markdown",
   "metadata": {},
   "source": [
    "------\n",
    "## Set 2 | Search an Element\n",
    "This function will search s given key in a given linked list and return true if found, false otherwise.\n",
    "\n",
    "### Recursive Solution\n",
    "1. If head is NULL, return false.\n",
    "2. If head's key is same as x, return true;\n",
    "3. Else return search(head->next, x) "
   ]
  },
  {
   "cell_type": "code",
   "execution_count": 4,
   "metadata": {},
   "outputs": [],
   "source": [
    "class LinkedList:\n",
    "    \n",
    "    def __init__(self):\n",
    "        self.head = None\n",
    "        \n",
    "    def push(self, new_data):\n",
    "        \"\"\"Add node to the linked list\"\"\"\n",
    "        new_node = Node(new_data)\n",
    "        new_node.next = self.head\n",
    "        self.head = new_node\n",
    "        \n",
    "    def search(self, key):\n",
    "        \"\"\"Searches if the given node is present\"\"\"\n",
    "        current = self.head\n",
    "        \n",
    "        while current is not None:\n",
    "            if current.data == key:\n",
    "                return True\n",
    "            current = current.next\n",
    "            \n",
    "        return False"
   ]
  },
  {
   "cell_type": "code",
   "execution_count": 5,
   "metadata": {},
   "outputs": [
    {
     "name": "stdout",
     "output_type": "stream",
     "text": [
      "Found!\n"
     ]
    }
   ],
   "source": [
    "llist1 = LinkedList() \n",
    "  \n",
    "llist1.push(10) \n",
    "llist1.push(30) \n",
    "llist1.push(11) \n",
    "llist1.push(21) \n",
    "llist1.push(14)\n",
    "  \n",
    "if llist1.search(11): \n",
    "    print(\"Found!\") \n",
    "else: \n",
    "    print(\"Not found!\")"
   ]
  },
  {
   "cell_type": "markdown",
   "metadata": {},
   "source": [
    "## Set 3 | Get Nth node\n",
    "\n",
    "### Algorithm: \n",
    "\n",
    "1. Initialize count = 0\n",
    "2. Loop through the link list\n",
    "     1. if count is equal to the passed index then return current\n",
    "         node\n",
    "     2. Increment count\n",
    "     3. change current to point to next of the current"
   ]
  },
  {
   "cell_type": "code",
   "execution_count": 16,
   "metadata": {},
   "outputs": [],
   "source": [
    "class LinkedList:\n",
    "    \n",
    "    def __init__(self):\n",
    "        self.head = None\n",
    "        \n",
    "    def push(self, new_data):\n",
    "        \"\"\"Add node to the linked list\"\"\"\n",
    "        new_node = Node(new_data)\n",
    "        new_node.next = self.head\n",
    "        self.head = new_node\n",
    "        \n",
    "    def get_nth(self, index):\n",
    "        \"\"\"Searches and retrieves node on the given index\"\"\"\n",
    "        tmp = self.head\n",
    "        count = 0\n",
    "        \n",
    "        while tmp:\n",
    "            if count == index:\n",
    "                return tmp.data\n",
    "            count += 1\n",
    "            tmp = tmp.next\n",
    "        \n",
    "        # If the index isn't in this linked list\n",
    "        raise IndexError(\n",
    "            f'{index} is not present in the given linked list'\n",
    "        )"
   ]
  },
  {
   "cell_type": "code",
   "execution_count": 18,
   "metadata": {},
   "outputs": [
    {
     "name": "stdout",
     "output_type": "stream",
     "text": [
      "Element at index 3 is : 4\n"
     ]
    }
   ],
   "source": [
    "llist3 = LinkedList() \n",
    "llist3.push(1) \n",
    "llist3.push(4) \n",
    "llist3.push(1) \n",
    "llist3.push(12) \n",
    "llist3.push(1) \n",
    "\n",
    "print(\"Element at index 3 is :\", llist3.get_nth(3))"
   ]
  },
  {
   "cell_type": "code",
   "execution_count": 20,
   "metadata": {},
   "outputs": [
    {
     "ename": "IndexError",
     "evalue": "12 is not present in the given linked list",
     "output_type": "error",
     "traceback": [
      "\u001b[0;31m---------------------------------------------------------------------------\u001b[0m",
      "\u001b[0;31mIndexError\u001b[0m                                Traceback (most recent call last)",
      "\u001b[0;32m<ipython-input-20-af83ca6018dd>\u001b[0m in \u001b[0;36m<module>\u001b[0;34m\u001b[0m\n\u001b[1;32m      1\u001b[0m \u001b[0;31m# Raise IndexError\u001b[0m\u001b[0;34m\u001b[0m\u001b[0;34m\u001b[0m\u001b[0;34m\u001b[0m\u001b[0m\n\u001b[0;32m----> 2\u001b[0;31m \u001b[0mprint\u001b[0m\u001b[0;34m(\u001b[0m\u001b[0;34m\"Element at index 3 is :\"\u001b[0m\u001b[0;34m,\u001b[0m \u001b[0mllist3\u001b[0m\u001b[0;34m.\u001b[0m\u001b[0mget_nth\u001b[0m\u001b[0;34m(\u001b[0m\u001b[0;36m12\u001b[0m\u001b[0;34m)\u001b[0m\u001b[0;34m)\u001b[0m\u001b[0;34m\u001b[0m\u001b[0;34m\u001b[0m\u001b[0m\n\u001b[0m",
      "\u001b[0;32m<ipython-input-16-f925ec5d9dd1>\u001b[0m in \u001b[0;36mget_nth\u001b[0;34m(self, index)\u001b[0m\n\u001b[1;32m     30\u001b[0m \u001b[0;34m\u001b[0m\u001b[0m\n\u001b[1;32m     31\u001b[0m         \u001b[0;31m# If the index isn't in this linked list\u001b[0m\u001b[0;34m\u001b[0m\u001b[0;34m\u001b[0m\u001b[0;34m\u001b[0m\u001b[0m\n\u001b[0;32m---> 32\u001b[0;31m         \u001b[0;32mraise\u001b[0m \u001b[0mIndexError\u001b[0m\u001b[0;34m(\u001b[0m\u001b[0;34mf'{index} is not present in the given linked list'\u001b[0m\u001b[0;34m)\u001b[0m\u001b[0;34m\u001b[0m\u001b[0;34m\u001b[0m\u001b[0m\n\u001b[0m",
      "\u001b[0;31mIndexError\u001b[0m: 12 is not present in the given linked list"
     ]
    }
   ],
   "source": [
    "# Raise IndexError\n",
    "print(\"Element at index 3 is :\", llist3.get_nth(12))"
   ]
  },
  {
   "cell_type": "markdown",
   "metadata": {},
   "source": [
    "## Set 4 | Count Number of Occurances\n",
    "\n",
    "Given a singly linked list and a key, count number of occurrences of given key in linked list. For example, if given linked list is 1->2->1->2->1->3->1 and given key is 1, then output should be 4. Time Complexity: `O(n)`\n",
    "\n",
    "### Algorithm:\n",
    "1. Initialize count as zero.\n",
    "2. Loop through each element of linked list:\n",
    "     - If element data is equal to the passed number then increment the count.\n",
    "3. Return count. "
   ]
  },
  {
   "cell_type": "code",
   "execution_count": 21,
   "metadata": {},
   "outputs": [],
   "source": [
    "class LinkedList:\n",
    "    \n",
    "    def __init__(self):\n",
    "        self.head = None\n",
    "        \n",
    "    def push(self, new_data):\n",
    "        \"\"\"Add node to the linked list\"\"\"\n",
    "        new_node = Node(new_data)\n",
    "        new_node.next = self.head\n",
    "        self.head = new_node\n",
    "        \n",
    "    def count(self, value):\n",
    "        \"\"\"Counts the number of occurances of the given value\"\"\"\n",
    "        tmp = self.head\n",
    "        count = 0\n",
    "        \n",
    "        while tmp:\n",
    "            if tmp.data == value:\n",
    "                count += 1\n",
    "            tmp = tmp.next\n",
    "        return count"
   ]
  },
  {
   "cell_type": "code",
   "execution_count": 24,
   "metadata": {},
   "outputs": [
    {
     "name": "stdout",
     "output_type": "stream",
     "text": [
      "count of 1 is 3\n"
     ]
    }
   ],
   "source": [
    "llist4 = LinkedList() \n",
    "llist4.push(1) \n",
    "llist4.push(3) \n",
    "llist4.push(1) \n",
    "llist4.push(2) \n",
    "llist4.push(1) \n",
    "  \n",
    "# Check for the count function \n",
    "print(f\"count of 1 is {llist4.count(1)}\")"
   ]
  },
  {
   "cell_type": "markdown",
   "metadata": {},
   "source": [
    "All the methods in a one code"
   ]
  },
  {
   "cell_type": "code",
   "execution_count": null,
   "metadata": {},
   "outputs": [],
   "source": [
    "class LinkedList:\n",
    "    \n",
    "    def __init__(self):\n",
    "        self.head = None\n",
    "        \n",
    "    def push(self, new_data):\n",
    "        \"\"\"Add node to the linked list\"\"\"\n",
    "        new_node = Node(new_data)\n",
    "        new_node.next = self.head\n",
    "        self.head = new_node\n",
    "    \n",
    "    def length(self):\n",
    "        \"\"\"Counts the number of nodes\"\"\"\n",
    "        tmp = self.head\n",
    "        count = 0\n",
    "        while tmp:\n",
    "            count += 1\n",
    "            tmp = tmp.next\n",
    "        return count\n",
    "        \n",
    "    def search(self, key):\n",
    "        \"\"\"Searches if the given node is present\"\"\"\n",
    "        current = self.head\n",
    "        while current is not None:\n",
    "            if current.data == key:\n",
    "                return True\n",
    "            current = current.next\n",
    "        return False\n",
    "        \n",
    "    def get_nth(self, index):\n",
    "        \"\"\"Searches and retrieves node on the given index\"\"\"\n",
    "        tmp = self.head\n",
    "        count = 0\n",
    "        while tmp:\n",
    "            if count == index:\n",
    "                return tmp.data\n",
    "            count += 1\n",
    "            tmp = tmp.next\n",
    "        \n",
    "        # If the index isn't in this linked list\n",
    "        raise IndexError(\n",
    "            f'{index} is not present in the given linked list'\n",
    "        )\n",
    "        \n",
    "    def count(self, value):\n",
    "        \"\"\"Counts the number of occurances of the given value\"\"\"\n",
    "        tmp = self.head\n",
    "        count = 0\n",
    "        while tmp:\n",
    "            if tmp.data == value:\n",
    "                count += 1\n",
    "            tmp = tmp.next\n",
    "        return count"
   ]
  }
 ],
 "metadata": {
  "kernelspec": {
   "display_name": "Python 3.8.2 64-bit",
   "language": "python",
   "name": "python38264bitc1c0e47f0bef41228abb9a7d720d2718"
  },
  "language_info": {
   "codemirror_mode": {
    "name": "ipython",
    "version": 3
   },
   "file_extension": ".py",
   "mimetype": "text/x-python",
   "name": "python",
   "nbconvert_exporter": "python",
   "pygments_lexer": "ipython3",
   "version": "3.8.5"
  }
 },
 "nbformat": 4,
 "nbformat_minor": 4
}
