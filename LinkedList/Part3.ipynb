{
 "cells": [
  {
   "cell_type": "markdown",
   "metadata": {},
   "source": [
    "# Linked Lists Part 3\n",
    "\n",
    "## Set 1 | Detect A loop\n",
    "Given a linked list, check if the linked list has loop or not. Below diagram shows a linked list with a loop.\n",
    "\n",
    "![image](Linked-List-Loop.gif)\n",
    "\n",
    "**Hashing Approach:**\n",
    "\n",
    "Traverse the list one by one and keep putting the node addresses in a Hash Table. At any point, if NULL is reached then return false and if next of current node points to any of the previously stored nodes in Hash then return true. "
   ]
  },
  {
   "cell_type": "code",
   "execution_count": 1,
   "metadata": {},
   "outputs": [],
   "source": [
    "class Node:\n",
    "    \n",
    "    def __init__(self, data):\n",
    "        self.data = data\n",
    "        self.next = None"
   ]
  },
  {
   "cell_type": "code",
   "execution_count": 3,
   "metadata": {},
   "outputs": [],
   "source": [
    "class LinkedList:\n",
    "    \n",
    "    def __init__(self):\n",
    "        self.head = None\n",
    "        \n",
    "    def push(self, new_data):\n",
    "        \"\"\"Add Node at the head position\"\"\"\n",
    "        new_node = Node(new_data)\n",
    "        new_node.next = self.head\n",
    "        self.head = new_node\n",
    "        \n",
    "    def detect_loop(self):\n",
    "        \"\"\"Detects if the linked list contains a loop\"\"\"\n",
    "        nodes_set = set()\n",
    "        tmp = self.head\n",
    "        while tmp:\n",
    "            if tmp in nodes_set:\n",
    "                return True\n",
    "            nodes_set.add(tmp)\n",
    "            tmp = tmp.next\n",
    "        return False"
   ]
  },
  {
   "cell_type": "code",
   "execution_count": 4,
   "metadata": {},
   "outputs": [
    {
     "name": "stdout",
     "output_type": "stream",
     "text": [
      "True\n"
     ]
    }
   ],
   "source": [
    "llist = LinkedList()\n",
    "llist.push(20)\n",
    "llist.push(4)\n",
    "llist.push(15)\n",
    "llist.push(10)\n",
    "\n",
    "# Create a loop for testing\n",
    "llist.head.next.next.next.next = llist.head\n",
    "print(llist.detect_loop())"
   ]
  },
  {
   "cell_type": "markdown",
   "metadata": {},
   "source": [
    "## Set 2 | Find the length of the loop\n",
    "\n",
    "This function will chech wheather a given Linked List contains loop and if loop exists it will return a count of nodes in that loop.\n",
    "\n",
    "**Algorithm**:\n",
    "\n",
    "1. Find a common point in the loop by using the _Floyd's Cycle Detection Algorithm_.\n",
    "2. Store the pointer in a temporary variable and keep a count.\n",
    "3. Traverse the linked list until the same node is reached again and increase the count while moving to the next node.\n",
    "4. Print the ocunt as length of loop"
   ]
  },
  {
   "cell_type": "code",
   "execution_count": 5,
   "metadata": {},
   "outputs": [
    {
     "ename": "SyntaxError",
     "evalue": "invalid syntax (<ipython-input-5-8462876f079e>, line 22)",
     "output_type": "error",
     "traceback": [
      "\u001b[0;36m  File \u001b[0;32m\"<ipython-input-5-8462876f079e>\"\u001b[0;36m, line \u001b[0;32m22\u001b[0m\n\u001b[0;31m    if slow == fast and flag != 0\u001b[0m\n\u001b[0m                                 ^\u001b[0m\n\u001b[0;31mSyntaxError\u001b[0m\u001b[0;31m:\u001b[0m invalid syntax\n"
     ]
    }
   ],
   "source": [
    "class LinkedList:\n",
    "    \n",
    "    def __init__(self):\n",
    "        self.head = None\n",
    "        \n",
    "    def push(self, new_data):\n",
    "        \"\"\"Add Node at the head position\"\"\"\n",
    "        new_node = Node(new_data)\n",
    "        new_node.next = self.head\n",
    "        self.head = new_node\n",
    "        \n",
    "    def detect_loop_length(self):\n",
    "        \"\"\"Detects if loop is present and returns its length\"\"\"\n",
    "        if not self.head:\n",
    "            return 0\n",
    "        slow = self.head\n",
    "        fast = self.head\n",
    "        flag = 0\n",
    "        \n",
    "        while (slow and slow.next and fast \n",
    "                and fast.next and fast.next.next):\n",
    "            if slow == fast and flag != 0:\n",
    "                count = 1\n",
    "                slow = slow.next\n",
    "                while slow != fast:\n",
    "                    slow = slow.next\n",
    "                    count += 1\n",
    "                return count\n",
    "            \n",
    "            slow = slow.next\n",
    "            fast = fast.next.next\n",
    "            flag = 1\n",
    "        return 0"
   ]
  },
  {
   "cell_type": "code",
   "execution_count": null,
   "metadata": {},
   "outputs": [],
   "source": [
    "llist1 = LinkedList()\n",
    "llist1.push(20)\n",
    "llist1.push(4)\n",
    "llist1.push(15)\n",
    "llist1.push(10)\n",
    "llist1.push(10)\n",
    "\n",
    "# Create a loop for testing\n",
    "llist.head.next.next.next.next = llist.head\n",
    "print(llist.detect_loop_length())"
   ]
  }
 ],
 "metadata": {
  "kernelspec": {
   "display_name": "Python 3.8.2 64-bit",
   "language": "python",
   "name": "python38264bitc1c0e47f0bef41228abb9a7d720d2718"
  },
  "language_info": {
   "codemirror_mode": {
    "name": "ipython",
    "version": 3
   },
   "file_extension": ".py",
   "mimetype": "text/x-python",
   "name": "python",
   "nbconvert_exporter": "python",
   "pygments_lexer": "ipython3",
   "version": "3.8.5"
  }
 },
 "nbformat": 4,
 "nbformat_minor": 4
}
